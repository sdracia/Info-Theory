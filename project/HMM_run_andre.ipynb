{
 "cells": [
  {
   "cell_type": "code",
   "execution_count": null,
   "metadata": {},
   "outputs": [],
   "source": [
    "import numpy as np\n",
    "import itertools\n",
    "import time\n",
    "from tqdm import tqdm\n",
    "from sklearn.metrics import normalized_mutual_info_score as nmi\n",
    "import matplotlib.pyplot as plt\n",
    "\n",
    "import hmm"
   ]
  },
  {
   "cell_type": "code",
   "execution_count": 20,
   "metadata": {},
   "outputs": [
    {
     "ename": "TypeError",
     "evalue": "TextIOWrapper.write() takes exactly one argument (2 given)",
     "output_type": "error",
     "traceback": [
      "\u001b[0;31m---------------------------------------------------------------------------\u001b[0m",
      "\u001b[0;31mTypeError\u001b[0m                                 Traceback (most recent call last)",
      "Cell \u001b[0;32mIn[20], line 21\u001b[0m\n\u001b[1;32m     12\u001b[0m r\u001b[38;5;241m=\u001b[39mnp\u001b[38;5;241m.\u001b[39marray([[\u001b[38;5;241m1\u001b[39m,\u001b[38;5;241m0\u001b[39m],\n\u001b[1;32m     13\u001b[0m             [\u001b[38;5;241m0\u001b[39m,\u001b[38;5;241m1\u001b[39m],\n\u001b[1;32m     14\u001b[0m             [\u001b[38;5;241m1\u001b[39m,\u001b[38;5;241m0\u001b[39m],\n\u001b[1;32m     15\u001b[0m             [\u001b[38;5;241m0\u001b[39m,\u001b[38;5;241m1\u001b[39m]])\n\u001b[1;32m     18\u001b[0m type_run \u001b[38;5;241m=\u001b[39m \u001b[38;5;124m\"\u001b[39m\u001b[38;5;124mComplexity increased keeping gamma very unbalanced, and increasing K (K=2)\u001b[39m\u001b[38;5;124m\"\u001b[39m\n\u001b[0;32m---> 21\u001b[0m run_simulation(N, K, T, seed, num_rep, pi, gamma, r, type_run)\n",
      "Cell \u001b[0;32mIn[18], line 443\u001b[0m, in \u001b[0;36mrun_simulation\u001b[0;34m(N, K, T, seed, num_rep, pi, gamma, r, type_run)\u001b[0m\n\u001b[1;32m    439\u001b[0m plot_nmi_vs_iterations(run_folder, tot_perc, tot_delta_r, \u001b[38;5;124m\"\u001b[39m\u001b[38;5;124mPercentage correct classified state Vs Iteration for Multiple Runs\u001b[39m\u001b[38;5;124m\"\u001b[39m, \u001b[38;5;124m\"\u001b[39m\u001b[38;5;124mR Distance Measure\u001b[39m\u001b[38;5;124m\"\u001b[39m)\n\u001b[1;32m    442\u001b[0m \u001b[38;5;28;01mwith\u001b[39;00m \u001b[38;5;28mopen\u001b[39m(os\u001b[38;5;241m.\u001b[39mpath\u001b[38;5;241m.\u001b[39mjoin(run_folder, \u001b[38;5;124m\"\u001b[39m\u001b[38;5;124mrun_parameters.txt\u001b[39m\u001b[38;5;124m\"\u001b[39m), \u001b[38;5;124m\"\u001b[39m\u001b[38;5;124mw\u001b[39m\u001b[38;5;124m\"\u001b[39m) \u001b[38;5;28;01mas\u001b[39;00m f:\n\u001b[0;32m--> 443\u001b[0m     f\u001b[38;5;241m.\u001b[39mwrite(type_run, \u001b[38;5;124m'\u001b[39m\u001b[38;5;130;01m\\n\u001b[39;00m\u001b[38;5;124m'\u001b[39m)\n\u001b[1;32m    444\u001b[0m     f\u001b[38;5;241m.\u001b[39mwrite(\u001b[38;5;124m\"\u001b[39m\u001b[38;5;124m=\u001b[39m\u001b[38;5;124m\"\u001b[39m \u001b[38;5;241m*\u001b[39m \u001b[38;5;241m50\u001b[39m \u001b[38;5;241m+\u001b[39m \u001b[38;5;124m\"\u001b[39m\u001b[38;5;130;01m\\n\u001b[39;00m\u001b[38;5;130;01m\\n\u001b[39;00m\u001b[38;5;124m\"\u001b[39m)\n\u001b[1;32m    446\u001b[0m     f\u001b[38;5;241m.\u001b[39mwrite(\u001b[38;5;124mf\u001b[39m\u001b[38;5;124m\"\u001b[39m\u001b[38;5;124mN (neurons): \u001b[39m\u001b[38;5;132;01m{\u001b[39;00mN\u001b[38;5;132;01m}\u001b[39;00m\u001b[38;5;130;01m\\n\u001b[39;00m\u001b[38;5;124m\"\u001b[39m)\n",
      "\u001b[0;31mTypeError\u001b[0m: TextIOWrapper.write() takes exactly one argument (2 given)"
     ]
    }
   ],
   "source": [
    "%%capture\n",
    "\n",
    "N = 3  # neurons\n",
    "K = 2  # states\n",
    "T = 100000  # time steps\n",
    "seed = None #1234 \n",
    "num_rep = 10\n",
    "\n",
    "#input: initialization of the parameters for the HMM\n",
    "#pi, gamma, r = initialize_parameters(N, K, seed)\n",
    "\n",
    "pi=np.array([1,0])\n",
    "gamma=np.array([[0.9,0.1],[0.1,0.9]])\n",
    "r=np.array([[1,0],\n",
    "            [0,1],\n",
    "            [1,0],\n",
    "            [0,1]])\n",
    "\n",
    "\n",
    "type_run = \"Complexity increased keeping gamma very unbalanced, and increasing K (K=2)\"\n",
    "\n",
    "\n",
    "hmm.run_simulation(N, K, T, seed, num_rep, pi, gamma, r, type_run)\n",
    "\n"
   ]
  },
  {
   "cell_type": "code",
   "execution_count": 21,
   "metadata": {},
   "outputs": [
    {
     "ename": "ValueError",
     "evalue": "'a' and 'p' must have same size",
     "output_type": "error",
     "traceback": [
      "\u001b[0;31m---------------------------------------------------------------------------\u001b[0m",
      "\u001b[0;31mValueError\u001b[0m                                Traceback (most recent call last)",
      "Cell \u001b[0;32mIn[21], line 23\u001b[0m\n\u001b[1;32m     14\u001b[0m r\u001b[38;5;241m=\u001b[39mnp\u001b[38;5;241m.\u001b[39marray([[\u001b[38;5;241m1\u001b[39m,\u001b[38;5;241m0\u001b[39m,\u001b[38;5;241m1\u001b[39m],\n\u001b[1;32m     15\u001b[0m             [\u001b[38;5;241m0\u001b[39m,\u001b[38;5;241m1\u001b[39m,\u001b[38;5;241m1\u001b[39m],\n\u001b[1;32m     16\u001b[0m             [\u001b[38;5;241m1\u001b[39m,\u001b[38;5;241m0\u001b[39m,\u001b[38;5;241m0\u001b[39m],\n\u001b[1;32m     17\u001b[0m             [\u001b[38;5;241m0\u001b[39m,\u001b[38;5;241m1\u001b[39m,\u001b[38;5;241m0\u001b[39m]])\n\u001b[1;32m     20\u001b[0m type_run \u001b[38;5;241m=\u001b[39m \u001b[38;5;124m\"\u001b[39m\u001b[38;5;124mComplexity increased keeping gamma very unbalanced, and increasing K (K=3)\u001b[39m\u001b[38;5;124m\"\u001b[39m\n\u001b[0;32m---> 23\u001b[0m run_simulation(N, K, T, seed, num_rep, pi, gamma, r, type_run)\n",
      "Cell \u001b[0;32mIn[18], line 368\u001b[0m, in \u001b[0;36mrun_simulation\u001b[0;34m(N, K, T, seed, num_rep, pi, gamma, r, type_run)\u001b[0m\n\u001b[1;32m    365\u001b[0m r \u001b[38;5;241m=\u001b[39m r \u001b[38;5;241m/\u001b[39m col_sums\n\u001b[1;32m    367\u001b[0m \u001b[38;5;66;03m#output: generation of the observed and hidden data\u001b[39;00m\n\u001b[0;32m--> 368\u001b[0m y, z \u001b[38;5;241m=\u001b[39m generate_hmm_data(T, N, K, pi, gamma, r)\n\u001b[1;32m    370\u001b[0m \u001b[38;5;28mprint\u001b[39m(\u001b[38;5;124m\"\u001b[39m\u001b[38;5;124mData is generated according to an HMM with the following parameters:\u001b[39m\u001b[38;5;124m\"\u001b[39m)\n\u001b[1;32m    372\u001b[0m \u001b[38;5;28mprint\u001b[39m(\u001b[38;5;124m\"\u001b[39m\u001b[38;5;124mPi:\u001b[39m\u001b[38;5;124m\"\u001b[39m, pi)\n",
      "Cell \u001b[0;32mIn[18], line 40\u001b[0m, in \u001b[0;36mgenerate_hmm_data\u001b[0;34m(T, N, K, pi, gamma, r)\u001b[0m\n\u001b[1;32m     37\u001b[0m y \u001b[38;5;241m=\u001b[39m np\u001b[38;5;241m.\u001b[39mzeros(T, dtype\u001b[38;5;241m=\u001b[39m\u001b[38;5;28mint\u001b[39m)  \n\u001b[1;32m     39\u001b[0m \u001b[38;5;66;03m# Initialization t=0. I extract the value of K following the init prob\u001b[39;00m\n\u001b[0;32m---> 40\u001b[0m z[\u001b[38;5;241m0\u001b[39m] \u001b[38;5;241m=\u001b[39m np\u001b[38;5;241m.\u001b[39mrandom\u001b[38;5;241m.\u001b[39mchoice(K, p\u001b[38;5;241m=\u001b[39mpi)\n\u001b[1;32m     42\u001b[0m \u001b[38;5;66;03m#data generation\u001b[39;00m\n\u001b[1;32m     43\u001b[0m \u001b[38;5;28;01mfor\u001b[39;00m t \u001b[38;5;129;01min\u001b[39;00m \u001b[38;5;28mrange\u001b[39m(T):\n",
      "File \u001b[0;32mnumpy/random/mtrand.pyx:987\u001b[0m, in \u001b[0;36mnumpy.random.mtrand.RandomState.choice\u001b[0;34m()\u001b[0m\n",
      "\u001b[0;31mValueError\u001b[0m: 'a' and 'p' must have same size"
     ]
    }
   ],
   "source": [
    "%%capture\n",
    "\n",
    "N = 3  # neurons\n",
    "K = 3  # states\n",
    "T = 100000  # time steps\n",
    "seed = None #1234 \n",
    "num_rep = 10\n",
    "\n",
    "#input: initialization of the parameters for the HMM\n",
    "#pi, gamma, r = initialize_parameters(N, K, seed)\n",
    "\n",
    "pi=np.array([1,0,0])\n",
    "gamma=np.array([[0.9,0.05,0.05],\n",
    "                [0.05,0.9,0.05],\n",
    "                [0.05,0.05,0.9]])\n",
    "r=np.array([[1,0,1],\n",
    "            [0,1,1],\n",
    "            [1,0,0],\n",
    "            [0,1,0]])\n",
    "\n",
    "\n",
    "type_run = \"Complexity increased keeping gamma very unbalanced, and increasing K (K=3)\"\n",
    "\n",
    "\n",
    "hmm.run_simulation(N, K, T, seed, num_rep, pi, gamma, r, type_run)\n",
    "\n"
   ]
  },
  {
   "cell_type": "code",
   "execution_count": 22,
   "metadata": {},
   "outputs": [
    {
     "ename": "ValueError",
     "evalue": "'a' and 'p' must have same size",
     "output_type": "error",
     "traceback": [
      "\u001b[0;31m---------------------------------------------------------------------------\u001b[0m",
      "\u001b[0;31mValueError\u001b[0m                                Traceback (most recent call last)",
      "Cell \u001b[0;32mIn[22], line 24\u001b[0m\n\u001b[1;32m     15\u001b[0m r\u001b[38;5;241m=\u001b[39mnp\u001b[38;5;241m.\u001b[39marray([[\u001b[38;5;241m1\u001b[39m,\u001b[38;5;241m0\u001b[39m,\u001b[38;5;241m1\u001b[39m,\u001b[38;5;241m0\u001b[39m],\n\u001b[1;32m     16\u001b[0m             [\u001b[38;5;241m0\u001b[39m,\u001b[38;5;241m1\u001b[39m,\u001b[38;5;241m1\u001b[39m,\u001b[38;5;241m0\u001b[39m],\n\u001b[1;32m     17\u001b[0m             [\u001b[38;5;241m1\u001b[39m,\u001b[38;5;241m0\u001b[39m,\u001b[38;5;241m0\u001b[39m,\u001b[38;5;241m1\u001b[39m],\n\u001b[1;32m     18\u001b[0m             [\u001b[38;5;241m0\u001b[39m,\u001b[38;5;241m1\u001b[39m,\u001b[38;5;241m0\u001b[39m,\u001b[38;5;241m1\u001b[39m]])\n\u001b[1;32m     21\u001b[0m type_run \u001b[38;5;241m=\u001b[39m \u001b[38;5;124m\"\u001b[39m\u001b[38;5;124mComplexity increased keeping gamma very unbalanced, and increasing K (K=4)\u001b[39m\u001b[38;5;124m\"\u001b[39m\n\u001b[0;32m---> 24\u001b[0m run_simulation(N, K, T, seed, num_rep, pi, gamma, r, type_run)\n",
      "Cell \u001b[0;32mIn[18], line 368\u001b[0m, in \u001b[0;36mrun_simulation\u001b[0;34m(N, K, T, seed, num_rep, pi, gamma, r, type_run)\u001b[0m\n\u001b[1;32m    365\u001b[0m r \u001b[38;5;241m=\u001b[39m r \u001b[38;5;241m/\u001b[39m col_sums\n\u001b[1;32m    367\u001b[0m \u001b[38;5;66;03m#output: generation of the observed and hidden data\u001b[39;00m\n\u001b[0;32m--> 368\u001b[0m y, z \u001b[38;5;241m=\u001b[39m generate_hmm_data(T, N, K, pi, gamma, r)\n\u001b[1;32m    370\u001b[0m \u001b[38;5;28mprint\u001b[39m(\u001b[38;5;124m\"\u001b[39m\u001b[38;5;124mData is generated according to an HMM with the following parameters:\u001b[39m\u001b[38;5;124m\"\u001b[39m)\n\u001b[1;32m    372\u001b[0m \u001b[38;5;28mprint\u001b[39m(\u001b[38;5;124m\"\u001b[39m\u001b[38;5;124mPi:\u001b[39m\u001b[38;5;124m\"\u001b[39m, pi)\n",
      "Cell \u001b[0;32mIn[18], line 40\u001b[0m, in \u001b[0;36mgenerate_hmm_data\u001b[0;34m(T, N, K, pi, gamma, r)\u001b[0m\n\u001b[1;32m     37\u001b[0m y \u001b[38;5;241m=\u001b[39m np\u001b[38;5;241m.\u001b[39mzeros(T, dtype\u001b[38;5;241m=\u001b[39m\u001b[38;5;28mint\u001b[39m)  \n\u001b[1;32m     39\u001b[0m \u001b[38;5;66;03m# Initialization t=0. I extract the value of K following the init prob\u001b[39;00m\n\u001b[0;32m---> 40\u001b[0m z[\u001b[38;5;241m0\u001b[39m] \u001b[38;5;241m=\u001b[39m np\u001b[38;5;241m.\u001b[39mrandom\u001b[38;5;241m.\u001b[39mchoice(K, p\u001b[38;5;241m=\u001b[39mpi)\n\u001b[1;32m     42\u001b[0m \u001b[38;5;66;03m#data generation\u001b[39;00m\n\u001b[1;32m     43\u001b[0m \u001b[38;5;28;01mfor\u001b[39;00m t \u001b[38;5;129;01min\u001b[39;00m \u001b[38;5;28mrange\u001b[39m(T):\n",
      "File \u001b[0;32mnumpy/random/mtrand.pyx:987\u001b[0m, in \u001b[0;36mnumpy.random.mtrand.RandomState.choice\u001b[0;34m()\u001b[0m\n",
      "\u001b[0;31mValueError\u001b[0m: 'a' and 'p' must have same size"
     ]
    }
   ],
   "source": [
    "%%capture\n",
    "\n",
    "N = 3  # neurons\n",
    "K = 4  # states\n",
    "T = 100000  # time steps\n",
    "seed = None #1234 \n",
    "num_rep = 10\n",
    "\n",
    "#input: initialization of the parameters for the HMM\n",
    "#pi, gamma, r = initialize_parameters(N, K, seed)\n",
    "\n",
    "pi=np.array([1,0,0,0])\n",
    "gamma=np.array([[0.85,0.05,0.05,0.05],\n",
    "                [0.05,0.85,0.05,0.05],\n",
    "                [0.05,0.05,0.85,0.05],\n",
    "                [0.05,0.05,0.05,0.85]])\n",
    "r=np.array([[1,0,1,0],\n",
    "            [0,1,1,0],\n",
    "            [1,0,0,1],\n",
    "            [0,1,0,1]])\n",
    "\n",
    "\n",
    "type_run = \"Complexity increased keeping gamma very unbalanced, and increasing K (K=4)\"\n",
    "\n",
    "\n",
    "hmm.run_simulation(N, K, T, seed, num_rep, pi, gamma, r, type_run)\n",
    "\n"
   ]
  },
  {
   "cell_type": "code",
   "execution_count": 23,
   "metadata": {},
   "outputs": [
    {
     "ename": "ValueError",
     "evalue": "'a' and 'p' must have same size",
     "output_type": "error",
     "traceback": [
      "\u001b[0;31m---------------------------------------------------------------------------\u001b[0m",
      "\u001b[0;31mValueError\u001b[0m                                Traceback (most recent call last)",
      "Cell \u001b[0;32mIn[23], line 25\u001b[0m\n\u001b[1;32m     16\u001b[0m r\u001b[38;5;241m=\u001b[39mnp\u001b[38;5;241m.\u001b[39marray([[\u001b[38;5;241m1\u001b[39m,\u001b[38;5;241m0\u001b[39m,\u001b[38;5;241m1\u001b[39m,\u001b[38;5;241m0\u001b[39m,\u001b[38;5;241m1\u001b[39m],\n\u001b[1;32m     17\u001b[0m             [\u001b[38;5;241m0\u001b[39m,\u001b[38;5;241m1\u001b[39m,\u001b[38;5;241m1\u001b[39m,\u001b[38;5;241m0\u001b[39m,\u001b[38;5;241m0\u001b[39m],\n\u001b[1;32m     18\u001b[0m             [\u001b[38;5;241m1\u001b[39m,\u001b[38;5;241m0\u001b[39m,\u001b[38;5;241m0\u001b[39m,\u001b[38;5;241m1\u001b[39m,\u001b[38;5;241m1\u001b[39m],\n\u001b[1;32m     19\u001b[0m             [\u001b[38;5;241m0\u001b[39m,\u001b[38;5;241m1\u001b[39m,\u001b[38;5;241m0\u001b[39m,\u001b[38;5;241m1\u001b[39m,\u001b[38;5;241m1\u001b[39m]])\n\u001b[1;32m     22\u001b[0m type_run \u001b[38;5;241m=\u001b[39m \u001b[38;5;124m\"\u001b[39m\u001b[38;5;124mComplexity increased keeping gamma very unbalanced, and increasing K (K=5)\u001b[39m\u001b[38;5;124m\"\u001b[39m\n\u001b[0;32m---> 25\u001b[0m run_simulation(N, K, T, seed, num_rep, pi, gamma, r, type_run)\n",
      "Cell \u001b[0;32mIn[18], line 368\u001b[0m, in \u001b[0;36mrun_simulation\u001b[0;34m(N, K, T, seed, num_rep, pi, gamma, r, type_run)\u001b[0m\n\u001b[1;32m    365\u001b[0m r \u001b[38;5;241m=\u001b[39m r \u001b[38;5;241m/\u001b[39m col_sums\n\u001b[1;32m    367\u001b[0m \u001b[38;5;66;03m#output: generation of the observed and hidden data\u001b[39;00m\n\u001b[0;32m--> 368\u001b[0m y, z \u001b[38;5;241m=\u001b[39m generate_hmm_data(T, N, K, pi, gamma, r)\n\u001b[1;32m    370\u001b[0m \u001b[38;5;28mprint\u001b[39m(\u001b[38;5;124m\"\u001b[39m\u001b[38;5;124mData is generated according to an HMM with the following parameters:\u001b[39m\u001b[38;5;124m\"\u001b[39m)\n\u001b[1;32m    372\u001b[0m \u001b[38;5;28mprint\u001b[39m(\u001b[38;5;124m\"\u001b[39m\u001b[38;5;124mPi:\u001b[39m\u001b[38;5;124m\"\u001b[39m, pi)\n",
      "Cell \u001b[0;32mIn[18], line 40\u001b[0m, in \u001b[0;36mgenerate_hmm_data\u001b[0;34m(T, N, K, pi, gamma, r)\u001b[0m\n\u001b[1;32m     37\u001b[0m y \u001b[38;5;241m=\u001b[39m np\u001b[38;5;241m.\u001b[39mzeros(T, dtype\u001b[38;5;241m=\u001b[39m\u001b[38;5;28mint\u001b[39m)  \n\u001b[1;32m     39\u001b[0m \u001b[38;5;66;03m# Initialization t=0. I extract the value of K following the init prob\u001b[39;00m\n\u001b[0;32m---> 40\u001b[0m z[\u001b[38;5;241m0\u001b[39m] \u001b[38;5;241m=\u001b[39m np\u001b[38;5;241m.\u001b[39mrandom\u001b[38;5;241m.\u001b[39mchoice(K, p\u001b[38;5;241m=\u001b[39mpi)\n\u001b[1;32m     42\u001b[0m \u001b[38;5;66;03m#data generation\u001b[39;00m\n\u001b[1;32m     43\u001b[0m \u001b[38;5;28;01mfor\u001b[39;00m t \u001b[38;5;129;01min\u001b[39;00m \u001b[38;5;28mrange\u001b[39m(T):\n",
      "File \u001b[0;32mnumpy/random/mtrand.pyx:987\u001b[0m, in \u001b[0;36mnumpy.random.mtrand.RandomState.choice\u001b[0;34m()\u001b[0m\n",
      "\u001b[0;31mValueError\u001b[0m: 'a' and 'p' must have same size"
     ]
    }
   ],
   "source": [
    "%%capture\n",
    "\n",
    "N = 3  # neurons\n",
    "K = 5  # states\n",
    "T = 100000  # time steps\n",
    "seed = None #1234 \n",
    "num_rep = 10\n",
    "\n",
    "#input: initialization of the parameters for the HMM\n",
    "#pi, gamma, r = initialize_parameters(N, K, seed)\n",
    "\n",
    "pi=np.array([1,0,0,0,0])\n",
    "gamma=np.array([[0.8,0.05,0.05,0.05,0.05],\n",
    "                [0.05,0.8,0.05,0.05,0.05],\n",
    "                [0.05,0.05,0.8,0.05,0.05],\n",
    "                [0.05,0.05,0.05,0.8,0.05],\n",
    "                [0.05,0.05,0.05,0.05,0.8]])\n",
    "r=np.array([[1,0,1,0,1],\n",
    "            [0,1,1,0,0],\n",
    "            [1,0,0,1,1],\n",
    "            [0,1,0,1,1]])\n",
    "\n",
    "\n",
    "type_run = \"Complexity increased keeping gamma very unbalanced, and increasing K (K=5)\"\n",
    "\n",
    "\n",
    "hmm.run_simulation(N, K, T, seed, num_rep, pi, gamma, r, type_run)\n",
    "\n"
   ]
  },
  {
   "cell_type": "code",
   "execution_count": 24,
   "metadata": {},
   "outputs": [
    {
     "ename": "ValueError",
     "evalue": "'a' and 'p' must have same size",
     "output_type": "error",
     "traceback": [
      "\u001b[0;31m---------------------------------------------------------------------------\u001b[0m",
      "\u001b[0;31mValueError\u001b[0m                                Traceback (most recent call last)",
      "Cell \u001b[0;32mIn[24], line 26\u001b[0m\n\u001b[1;32m     17\u001b[0m r\u001b[38;5;241m=\u001b[39mnp\u001b[38;5;241m.\u001b[39marray([[\u001b[38;5;241m1\u001b[39m,\u001b[38;5;241m0\u001b[39m,\u001b[38;5;241m1\u001b[39m,\u001b[38;5;241m0\u001b[39m,\u001b[38;5;241m1\u001b[39m,\u001b[38;5;241m1\u001b[39m],\n\u001b[1;32m     18\u001b[0m             [\u001b[38;5;241m0\u001b[39m,\u001b[38;5;241m1\u001b[39m,\u001b[38;5;241m1\u001b[39m,\u001b[38;5;241m0\u001b[39m,\u001b[38;5;241m0\u001b[39m,\u001b[38;5;241m1\u001b[39m],\n\u001b[1;32m     19\u001b[0m             [\u001b[38;5;241m1\u001b[39m,\u001b[38;5;241m0\u001b[39m,\u001b[38;5;241m0\u001b[39m,\u001b[38;5;241m1\u001b[39m,\u001b[38;5;241m1\u001b[39m,\u001b[38;5;241m0\u001b[39m],\n\u001b[1;32m     20\u001b[0m             [\u001b[38;5;241m0\u001b[39m,\u001b[38;5;241m1\u001b[39m,\u001b[38;5;241m0\u001b[39m,\u001b[38;5;241m1\u001b[39m,\u001b[38;5;241m1\u001b[39m,\u001b[38;5;241m1\u001b[39m]])\n\u001b[1;32m     23\u001b[0m type_run \u001b[38;5;241m=\u001b[39m \u001b[38;5;124m\"\u001b[39m\u001b[38;5;124mComplexity increased keeping gamma very unbalanced, and increasing K (K=6)\u001b[39m\u001b[38;5;124m\"\u001b[39m\n\u001b[0;32m---> 26\u001b[0m run_simulation(N, K, T, seed, num_rep, pi, gamma, r, type_run)\n",
      "Cell \u001b[0;32mIn[18], line 368\u001b[0m, in \u001b[0;36mrun_simulation\u001b[0;34m(N, K, T, seed, num_rep, pi, gamma, r, type_run)\u001b[0m\n\u001b[1;32m    365\u001b[0m r \u001b[38;5;241m=\u001b[39m r \u001b[38;5;241m/\u001b[39m col_sums\n\u001b[1;32m    367\u001b[0m \u001b[38;5;66;03m#output: generation of the observed and hidden data\u001b[39;00m\n\u001b[0;32m--> 368\u001b[0m y, z \u001b[38;5;241m=\u001b[39m generate_hmm_data(T, N, K, pi, gamma, r)\n\u001b[1;32m    370\u001b[0m \u001b[38;5;28mprint\u001b[39m(\u001b[38;5;124m\"\u001b[39m\u001b[38;5;124mData is generated according to an HMM with the following parameters:\u001b[39m\u001b[38;5;124m\"\u001b[39m)\n\u001b[1;32m    372\u001b[0m \u001b[38;5;28mprint\u001b[39m(\u001b[38;5;124m\"\u001b[39m\u001b[38;5;124mPi:\u001b[39m\u001b[38;5;124m\"\u001b[39m, pi)\n",
      "Cell \u001b[0;32mIn[18], line 40\u001b[0m, in \u001b[0;36mgenerate_hmm_data\u001b[0;34m(T, N, K, pi, gamma, r)\u001b[0m\n\u001b[1;32m     37\u001b[0m y \u001b[38;5;241m=\u001b[39m np\u001b[38;5;241m.\u001b[39mzeros(T, dtype\u001b[38;5;241m=\u001b[39m\u001b[38;5;28mint\u001b[39m)  \n\u001b[1;32m     39\u001b[0m \u001b[38;5;66;03m# Initialization t=0. I extract the value of K following the init prob\u001b[39;00m\n\u001b[0;32m---> 40\u001b[0m z[\u001b[38;5;241m0\u001b[39m] \u001b[38;5;241m=\u001b[39m np\u001b[38;5;241m.\u001b[39mrandom\u001b[38;5;241m.\u001b[39mchoice(K, p\u001b[38;5;241m=\u001b[39mpi)\n\u001b[1;32m     42\u001b[0m \u001b[38;5;66;03m#data generation\u001b[39;00m\n\u001b[1;32m     43\u001b[0m \u001b[38;5;28;01mfor\u001b[39;00m t \u001b[38;5;129;01min\u001b[39;00m \u001b[38;5;28mrange\u001b[39m(T):\n",
      "File \u001b[0;32mnumpy/random/mtrand.pyx:987\u001b[0m, in \u001b[0;36mnumpy.random.mtrand.RandomState.choice\u001b[0;34m()\u001b[0m\n",
      "\u001b[0;31mValueError\u001b[0m: 'a' and 'p' must have same size"
     ]
    }
   ],
   "source": [
    "%%capture\n",
    "\n",
    "N = 3  # neurons\n",
    "K = 6  # states\n",
    "T = 100000  # time steps\n",
    "seed = None #1234 \n",
    "num_rep = 10\n",
    "\n",
    "#input: initialization of the parameters for the HMM\n",
    "#pi, gamma, r = initialize_parameters(N, K, seed)\n",
    "\n",
    "pi=np.array([1,0,0,0,0,0])\n",
    "gamma=np.array([[0.75,0.05,0.05,0.05,0.05,0.05],\n",
    "                [0.05,0.75,0.05,0.05,0.05,0.05],\n",
    "                [0.05,0.05,0.75,0.05,0.05,0.05],\n",
    "                [0.05,0.05,0.05,0.75,0.05,0.05],\n",
    "                [0.05,0.05,0.05,0.05,0.75,0.05],\n",
    "                [0.05,0.05,0.05,0.05,0.05,0.75]])\n",
    "r=np.array([[1,0,1,0,1,1],\n",
    "            [0,1,1,0,0,1],\n",
    "            [1,0,0,1,1,0],\n",
    "            [0,1,0,1,1,1]])\n",
    "\n",
    "\n",
    "type_run = \"Complexity increased keeping gamma very unbalanced, and increasing K (K=6)\"\n",
    "\n",
    "\n",
    "hmm.run_simulation(N, K, T, seed, num_rep, pi, gamma, r, type_run)\n",
    "\n"
   ]
  },
  {
   "cell_type": "code",
   "execution_count": 25,
   "metadata": {},
   "outputs": [
    {
     "ename": "ValueError",
     "evalue": "'a' and 'p' must have same size",
     "output_type": "error",
     "traceback": [
      "\u001b[0;31m---------------------------------------------------------------------------\u001b[0m",
      "\u001b[0;31mValueError\u001b[0m                                Traceback (most recent call last)",
      "Cell \u001b[0;32mIn[25], line 27\u001b[0m\n\u001b[1;32m     18\u001b[0m r\u001b[38;5;241m=\u001b[39mnp\u001b[38;5;241m.\u001b[39marray([[\u001b[38;5;241m1\u001b[39m,\u001b[38;5;241m0\u001b[39m,\u001b[38;5;241m1\u001b[39m,\u001b[38;5;241m0\u001b[39m,\u001b[38;5;241m1\u001b[39m,\u001b[38;5;241m1\u001b[39m,\u001b[38;5;241m1\u001b[39m],\n\u001b[1;32m     19\u001b[0m             [\u001b[38;5;241m0\u001b[39m,\u001b[38;5;241m1\u001b[39m,\u001b[38;5;241m1\u001b[39m,\u001b[38;5;241m0\u001b[39m,\u001b[38;5;241m0\u001b[39m,\u001b[38;5;241m1\u001b[39m,\u001b[38;5;241m1\u001b[39m],\n\u001b[1;32m     20\u001b[0m             [\u001b[38;5;241m1\u001b[39m,\u001b[38;5;241m0\u001b[39m,\u001b[38;5;241m0\u001b[39m,\u001b[38;5;241m1\u001b[39m,\u001b[38;5;241m1\u001b[39m,\u001b[38;5;241m0\u001b[39m,\u001b[38;5;241m1\u001b[39m],\n\u001b[1;32m     21\u001b[0m             [\u001b[38;5;241m0\u001b[39m,\u001b[38;5;241m1\u001b[39m,\u001b[38;5;241m0\u001b[39m,\u001b[38;5;241m1\u001b[39m,\u001b[38;5;241m1\u001b[39m,\u001b[38;5;241m1\u001b[39m,\u001b[38;5;241m0\u001b[39m]])\n\u001b[1;32m     24\u001b[0m type_run \u001b[38;5;241m=\u001b[39m \u001b[38;5;124m\"\u001b[39m\u001b[38;5;124mComplexity increased keeping gamma very unbalanced, and increasing K (K=7)\u001b[39m\u001b[38;5;124m\"\u001b[39m\n\u001b[0;32m---> 27\u001b[0m run_simulation(N, K, T, seed, num_rep, pi, gamma, r, type_run)\n",
      "Cell \u001b[0;32mIn[18], line 368\u001b[0m, in \u001b[0;36mrun_simulation\u001b[0;34m(N, K, T, seed, num_rep, pi, gamma, r, type_run)\u001b[0m\n\u001b[1;32m    365\u001b[0m r \u001b[38;5;241m=\u001b[39m r \u001b[38;5;241m/\u001b[39m col_sums\n\u001b[1;32m    367\u001b[0m \u001b[38;5;66;03m#output: generation of the observed and hidden data\u001b[39;00m\n\u001b[0;32m--> 368\u001b[0m y, z \u001b[38;5;241m=\u001b[39m generate_hmm_data(T, N, K, pi, gamma, r)\n\u001b[1;32m    370\u001b[0m \u001b[38;5;28mprint\u001b[39m(\u001b[38;5;124m\"\u001b[39m\u001b[38;5;124mData is generated according to an HMM with the following parameters:\u001b[39m\u001b[38;5;124m\"\u001b[39m)\n\u001b[1;32m    372\u001b[0m \u001b[38;5;28mprint\u001b[39m(\u001b[38;5;124m\"\u001b[39m\u001b[38;5;124mPi:\u001b[39m\u001b[38;5;124m\"\u001b[39m, pi)\n",
      "Cell \u001b[0;32mIn[18], line 40\u001b[0m, in \u001b[0;36mgenerate_hmm_data\u001b[0;34m(T, N, K, pi, gamma, r)\u001b[0m\n\u001b[1;32m     37\u001b[0m y \u001b[38;5;241m=\u001b[39m np\u001b[38;5;241m.\u001b[39mzeros(T, dtype\u001b[38;5;241m=\u001b[39m\u001b[38;5;28mint\u001b[39m)  \n\u001b[1;32m     39\u001b[0m \u001b[38;5;66;03m# Initialization t=0. I extract the value of K following the init prob\u001b[39;00m\n\u001b[0;32m---> 40\u001b[0m z[\u001b[38;5;241m0\u001b[39m] \u001b[38;5;241m=\u001b[39m np\u001b[38;5;241m.\u001b[39mrandom\u001b[38;5;241m.\u001b[39mchoice(K, p\u001b[38;5;241m=\u001b[39mpi)\n\u001b[1;32m     42\u001b[0m \u001b[38;5;66;03m#data generation\u001b[39;00m\n\u001b[1;32m     43\u001b[0m \u001b[38;5;28;01mfor\u001b[39;00m t \u001b[38;5;129;01min\u001b[39;00m \u001b[38;5;28mrange\u001b[39m(T):\n",
      "File \u001b[0;32mnumpy/random/mtrand.pyx:987\u001b[0m, in \u001b[0;36mnumpy.random.mtrand.RandomState.choice\u001b[0;34m()\u001b[0m\n",
      "\u001b[0;31mValueError\u001b[0m: 'a' and 'p' must have same size"
     ]
    }
   ],
   "source": [
    "%%capture\n",
    "\n",
    "N = 3  # neurons\n",
    "K = 7  # states\n",
    "T = 100000  # time steps\n",
    "seed = None #1234 \n",
    "num_rep = 10\n",
    "\n",
    "#input: initialization of the parameters for the HMM\n",
    "#pi, gamma, r = initialize_parameters(N, K, seed)\n",
    "\n",
    "pi=np.array([1,0,0,0,0,0,0])\n",
    "gamma=np.array([[0.7,0.05,0.05,0.05,0.05,0.05,0.05],\n",
    "                [0.05,0.7,0.05,0.05,0.05,0.05,0.05],\n",
    "                [0.05,0.05,0.7,0.05,0.05,0.05,0.05],\n",
    "                [0.05,0.05,0.05,0.7,0.05,0.05,0.05],\n",
    "                [0.05,0.05,0.05,0.05,0.7,0.05,0.05],\n",
    "                [0.05,0.05,0.05,0.05,0.05,0.7,0.05],\n",
    "                [0.05,0.05,0.05,0.05,0.05,0.05,0.7]])\n",
    "r=np.array([[1,0,1,0,1,1,1],\n",
    "            [0,1,1,0,0,1,1],\n",
    "            [1,0,0,1,1,0,1],\n",
    "            [0,1,0,1,1,1,0]])\n",
    "\n",
    "\n",
    "type_run = \"Complexity increased keeping gamma very unbalanced, and increasing K (K=7)\"\n",
    "\n",
    "\n",
    "hmm.run_simulation(N, K, T, seed, num_rep, pi, gamma, r, type_run)\n",
    "\n"
   ]
  },
  {
   "cell_type": "code",
   "execution_count": 26,
   "metadata": {},
   "outputs": [
    {
     "ename": "ValueError",
     "evalue": "'a' and 'p' must have same size",
     "output_type": "error",
     "traceback": [
      "\u001b[0;31m---------------------------------------------------------------------------\u001b[0m",
      "\u001b[0;31mValueError\u001b[0m                                Traceback (most recent call last)",
      "Cell \u001b[0;32mIn[26], line 28\u001b[0m\n\u001b[1;32m     19\u001b[0m r\u001b[38;5;241m=\u001b[39mnp\u001b[38;5;241m.\u001b[39marray([[\u001b[38;5;241m1\u001b[39m,\u001b[38;5;241m0\u001b[39m,\u001b[38;5;241m1\u001b[39m,\u001b[38;5;241m0\u001b[39m,\u001b[38;5;241m1\u001b[39m,\u001b[38;5;241m1\u001b[39m,\u001b[38;5;241m1\u001b[39m,\u001b[38;5;241m0\u001b[39m],\n\u001b[1;32m     20\u001b[0m             [\u001b[38;5;241m0\u001b[39m,\u001b[38;5;241m1\u001b[39m,\u001b[38;5;241m1\u001b[39m,\u001b[38;5;241m0\u001b[39m,\u001b[38;5;241m0\u001b[39m,\u001b[38;5;241m1\u001b[39m,\u001b[38;5;241m1\u001b[39m,\u001b[38;5;241m1\u001b[39m],\n\u001b[1;32m     21\u001b[0m             [\u001b[38;5;241m1\u001b[39m,\u001b[38;5;241m0\u001b[39m,\u001b[38;5;241m0\u001b[39m,\u001b[38;5;241m1\u001b[39m,\u001b[38;5;241m1\u001b[39m,\u001b[38;5;241m0\u001b[39m,\u001b[38;5;241m1\u001b[39m,\u001b[38;5;241m1\u001b[39m],\n\u001b[1;32m     22\u001b[0m             [\u001b[38;5;241m0\u001b[39m,\u001b[38;5;241m1\u001b[39m,\u001b[38;5;241m0\u001b[39m,\u001b[38;5;241m1\u001b[39m,\u001b[38;5;241m1\u001b[39m,\u001b[38;5;241m1\u001b[39m,\u001b[38;5;241m0\u001b[39m,\u001b[38;5;241m1\u001b[39m]])\n\u001b[1;32m     25\u001b[0m type_run \u001b[38;5;241m=\u001b[39m \u001b[38;5;124m\"\u001b[39m\u001b[38;5;124mComplexity increased keeping gamma very unbalanced, and increasing K (K=8)\u001b[39m\u001b[38;5;124m\"\u001b[39m\n\u001b[0;32m---> 28\u001b[0m run_simulation(N, K, T, seed, num_rep, pi, gamma, r, type_run)\n",
      "Cell \u001b[0;32mIn[18], line 368\u001b[0m, in \u001b[0;36mrun_simulation\u001b[0;34m(N, K, T, seed, num_rep, pi, gamma, r, type_run)\u001b[0m\n\u001b[1;32m    365\u001b[0m r \u001b[38;5;241m=\u001b[39m r \u001b[38;5;241m/\u001b[39m col_sums\n\u001b[1;32m    367\u001b[0m \u001b[38;5;66;03m#output: generation of the observed and hidden data\u001b[39;00m\n\u001b[0;32m--> 368\u001b[0m y, z \u001b[38;5;241m=\u001b[39m generate_hmm_data(T, N, K, pi, gamma, r)\n\u001b[1;32m    370\u001b[0m \u001b[38;5;28mprint\u001b[39m(\u001b[38;5;124m\"\u001b[39m\u001b[38;5;124mData is generated according to an HMM with the following parameters:\u001b[39m\u001b[38;5;124m\"\u001b[39m)\n\u001b[1;32m    372\u001b[0m \u001b[38;5;28mprint\u001b[39m(\u001b[38;5;124m\"\u001b[39m\u001b[38;5;124mPi:\u001b[39m\u001b[38;5;124m\"\u001b[39m, pi)\n",
      "Cell \u001b[0;32mIn[18], line 40\u001b[0m, in \u001b[0;36mgenerate_hmm_data\u001b[0;34m(T, N, K, pi, gamma, r)\u001b[0m\n\u001b[1;32m     37\u001b[0m y \u001b[38;5;241m=\u001b[39m np\u001b[38;5;241m.\u001b[39mzeros(T, dtype\u001b[38;5;241m=\u001b[39m\u001b[38;5;28mint\u001b[39m)  \n\u001b[1;32m     39\u001b[0m \u001b[38;5;66;03m# Initialization t=0. I extract the value of K following the init prob\u001b[39;00m\n\u001b[0;32m---> 40\u001b[0m z[\u001b[38;5;241m0\u001b[39m] \u001b[38;5;241m=\u001b[39m np\u001b[38;5;241m.\u001b[39mrandom\u001b[38;5;241m.\u001b[39mchoice(K, p\u001b[38;5;241m=\u001b[39mpi)\n\u001b[1;32m     42\u001b[0m \u001b[38;5;66;03m#data generation\u001b[39;00m\n\u001b[1;32m     43\u001b[0m \u001b[38;5;28;01mfor\u001b[39;00m t \u001b[38;5;129;01min\u001b[39;00m \u001b[38;5;28mrange\u001b[39m(T):\n",
      "File \u001b[0;32mnumpy/random/mtrand.pyx:987\u001b[0m, in \u001b[0;36mnumpy.random.mtrand.RandomState.choice\u001b[0;34m()\u001b[0m\n",
      "\u001b[0;31mValueError\u001b[0m: 'a' and 'p' must have same size"
     ]
    }
   ],
   "source": [
    "%%capture\n",
    "\n",
    "N = 3  # neurons\n",
    "K = 8  # states\n",
    "T = 100000  # time steps\n",
    "seed = None #1234 \n",
    "num_rep = 10\n",
    "\n",
    "#input: initialization of the parameters for the HMM\n",
    "#pi, gamma, r = initialize_parameters(N, K, seed)\n",
    "\n",
    "pi=np.array([1,0,0,0,0,0,0,0])\n",
    "gamma=np.array([[0.72,0.04,0.04,0.04,0.04,0.04,0.04,0.04],\n",
    "                [0.04,0.72,0.04,0.04,0.04,0.04,0.04,0.04],\n",
    "                [0.04,0.04,0.72,0.04,0.04,0.04,0.04,0.04],\n",
    "                [0.04,0.04,0.04,0.72,0.04,0.04,0.04,0.04],\n",
    "                [0.04,0.04,0.04,0.04,0.72,0.04,0.04,0.04],\n",
    "                [0.04,0.04,0.04,0.04,0.04,0.72,0.04,0.04],\n",
    "                [0.04,0.04,0.04,0.04,0.04,0.04,0.72,0.04],\n",
    "                [0.04,0.04,0.04,0.04,0.04,0.04,0.04,0.72]])\n",
    "r=np.array([[1,0,1,0,1,1,1,0],\n",
    "            [0,1,1,0,0,1,1,1],\n",
    "            [1,0,0,1,1,0,1,1],\n",
    "            [0,1,0,1,1,1,0,1]])\n",
    "\n",
    "\n",
    "type_run = \"Complexity increased keeping gamma very unbalanced, and increasing K (K=8)\"\n",
    "\n",
    "\n",
    "hmm.run_simulation(N, K, T, seed, num_rep, pi, gamma, r, type_run)\n",
    "\n"
   ]
  }
 ],
 "metadata": {
  "kernelspec": {
   "display_name": "base",
   "language": "python",
   "name": "python3"
  },
  "language_info": {
   "codemirror_mode": {
    "name": "ipython",
    "version": 3
   },
   "file_extension": ".py",
   "mimetype": "text/x-python",
   "name": "python",
   "nbconvert_exporter": "python",
   "pygments_lexer": "ipython3",
   "version": "3.11.5"
  }
 },
 "nbformat": 4,
 "nbformat_minor": 2
}

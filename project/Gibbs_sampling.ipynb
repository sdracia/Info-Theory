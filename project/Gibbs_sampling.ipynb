{
 "cells": [
  {
   "cell_type": "code",
   "execution_count": 28,
   "metadata": {},
   "outputs": [],
   "source": [
    "import numpy as np"
   ]
  },
  {
   "cell_type": "code",
   "execution_count": 102,
   "metadata": {},
   "outputs": [],
   "source": [
    "def sample_pi(v):\n",
    "    return np.random.dirichlet(v)\n",
    "\n",
    "def sample_gamma(u):\n",
    "    K = len(u)\n",
    "    gamma_matrix = np.zeros((K, K))\n",
    "    \n",
    "    # Here is normalized BY ROWS!!!\n",
    "    for k in range(K):\n",
    "        gamma_matrix[k] = np.random.dirichlet(u[k])\n",
    "    return gamma_matrix\n",
    "\n",
    "def sample_r(w):\n",
    "    K = len(w[0])\n",
    "    N = len(w) - 1\n",
    "    r_matrix = np.zeros((N + 1, K))\n",
    "\n",
    "    # Here is normalized BY COLUMNS!!!\n",
    "    for k in range(K):\n",
    "        r_matrix[:, k] = np.random.dirichlet(w[:, k])\n",
    "    return r_matrix\n",
    "\n",
    "def sample_z(eta):\n",
    "    T = len(eta)\n",
    "    K = eta.shape[1]\n",
    "    z = np.zeros(T)\n",
    "    \n",
    "    for t in range(T):\n",
    "        dist = np.sum(eta[t, :, :, :], axis=(1, 2))  # Sum over m and l for each k\n",
    "        dist /= np.sum(dist)\n",
    "        z[t] = np.random.choice(K, p=dist)\n",
    "    \n",
    "    return z\n",
    "\n",
    "\n",
    "\n",
    "def update_v(v, z):\n",
    "    v[int(z[0])] += 1\n",
    "    v /= np.sum(v)\n",
    "    \n",
    "    return v\n",
    "\n",
    "\n",
    "def update_u(u, z):\n",
    "    T = len(z)\n",
    "    K = len(u)\n",
    "    \n",
    "    for t in range(T-1):\n",
    "        u[int(z[t]), int(z[t+1])] += 1\n",
    "                    \n",
    "    for k in range(K):\n",
    "        u[k] /= np.sum(u[k])\n",
    "        \n",
    "    return u\n",
    "\n",
    "\n",
    "def update_w(w, y, z):\n",
    "    T = len(z)\n",
    "    K = len(w)\n",
    "    \n",
    "    for t in range(T):\n",
    "        w[int(y[t]), int(z[t])] += 1\n",
    "                    \n",
    "    for k in range(K):\n",
    "        w[k] /= np.sum(w[k])\n",
    "        \n",
    "    return w\n",
    "\n",
    "\n",
    "def update_eta(y, r, gamma):\n",
    "\n",
    "    K = len(r[0])\n",
    "    T = len(y)\n",
    "    eta = np.zeros((T, K, K, K))\n",
    "\n",
    "    for t in range(T):\n",
    "        for k in range(K):\n",
    "            for l in range(K):\n",
    "                for m in range(K):\n",
    "                    eta[t, k, m, l] = r[y[t], k] * gamma[m, k] * gamma[k, l]\n",
    "    \n",
    "                #eta[t, k, :, l] /= np.sum(eta[t, k, :, l])\n",
    "        \n",
    "    return eta"
   ]
  },
  {
   "cell_type": "code",
   "execution_count": 112,
   "metadata": {},
   "outputs": [],
   "source": [
    "def gibbs_sampling(y, z, v, u, w, num_iterations):    \n",
    "    for iter in range(num_iterations):\n",
    "        v = update_v(v, z)\n",
    "        u = update_u(u, z)\n",
    "        w = update_w(w, y, z)\n",
    "        \n",
    "        pi = sample_pi(v)\n",
    "        gamma_matrix = sample_gamma(u)\n",
    "        r_matrix = sample_r(w)\n",
    "        \n",
    "        eta = update_eta(y, r_matrix, gamma_matrix)\n",
    "        z = sample_z(eta)\n",
    "        \n",
    "    return pi, gamma_matrix, r_matrix, z"
   ]
  },
  {
   "cell_type": "code",
   "execution_count": 138,
   "metadata": {},
   "outputs": [],
   "source": [
    "# Example usage\n",
    "N = 5  # Number of neurons\n",
    "K = 3  # Number of hidden states\n",
    "T = 5  # Number of time steps\n",
    "\n",
    "v = np.ones(K)\n",
    "u = np.ones((K, K)) \n",
    "w = np.ones((N + 1, K))"
   ]
  },
  {
   "cell_type": "code",
   "execution_count": 139,
   "metadata": {},
   "outputs": [],
   "source": [
    "def initialize_parameters(N, K, seed=None):\n",
    "    if seed is not None:\n",
    "        np.random.seed(seed)\n",
    "\n",
    "    # Probability vector of length K\n",
    "    pi = np.random.dirichlet(alpha=np.ones(K))    \n",
    "\n",
    "    assert(np.allclose(sum(pi), 1, atol=1e-6) == 1)\n",
    "\n",
    "    # Transition matrix (K x K), where each column sums to 1, because a column\n",
    "    # represents the jump probabilities from a fixed initial state.\n",
    "    gamma = np.random.dirichlet(alpha=np.ones(K), size=K)\n",
    "\n",
    "    assert(np.allclose(np.sum(gamma, axis = 1), np.ones(K), atol=1e-6) == 1)\n",
    "\n",
    "    # r matrix (N+1 x K), where each column sums to 1, because a column\n",
    "    # represents the firing probability of a neuron in a fixed state.\n",
    "    r = np.random.dirichlet(alpha=np.ones(N + 1), size=K).T\n",
    "\n",
    "    assert(np.allclose(np.sum(r, axis = 0), np.ones(K), atol=1e-6))\n",
    "\n",
    "    return pi, gamma, r\n",
    "\n",
    "def generate_hmm_data(T, N, K, pi, gamma, r):\n",
    "    z = np.zeros(T, dtype=int)\n",
    "    y = np.zeros(T, dtype=int)\n",
    "\n",
    "    # Initialization t=0. I extract the value of K following the init prob\n",
    "    z[0] = np.random.choice(K, p=pi)\n",
    "    y[0] = np.random.choice(N + 1, p=r[:, z[0]])\n",
    "\n",
    "    #data generation\n",
    "    for t in range(1, T):\n",
    "        # I take the column of gamma corresponding to z[t-1] and extract from this distribution\n",
    "        z[t] = np.random.choice(K, p=gamma[z[t-1]])\n",
    "        \n",
    "        # I take the column of r corresponding to z[t] and extract from this prob distribution\n",
    "        y[t] = np.random.choice(N + 1, p=r[:, z[t]])\n",
    "\n",
    "    return y, z"
   ]
  },
  {
   "cell_type": "code",
   "execution_count": 140,
   "metadata": {},
   "outputs": [],
   "source": [
    "pi, gamma, r = initialize_parameters(N, K)\n",
    "y, z = generate_hmm_data(T, N, K, pi, gamma, r)"
   ]
  },
  {
   "cell_type": "code",
   "execution_count": 141,
   "metadata": {},
   "outputs": [
    {
     "ename": "ValueError",
     "evalue": "alpha <= 0",
     "output_type": "error",
     "traceback": [
      "\u001b[0;31m---------------------------------------------------------------------------\u001b[0m",
      "\u001b[0;31mValueError\u001b[0m                                Traceback (most recent call last)",
      "Cell \u001b[0;32mIn[141], line 1\u001b[0m\n\u001b[0;32m----> 1\u001b[0m pi_post, gamma_post, r_post, z_post \u001b[38;5;241m=\u001b[39m gibbs_sampling(y, z, v, u, w, \u001b[38;5;241m1000\u001b[39m)\n",
      "Cell \u001b[0;32mIn[112], line 8\u001b[0m, in \u001b[0;36mgibbs_sampling\u001b[0;34m(y, z, v, u, w, num_iterations)\u001b[0m\n\u001b[1;32m      5\u001b[0m w \u001b[38;5;241m=\u001b[39m update_w(w, y, z)\n\u001b[1;32m      7\u001b[0m pi \u001b[38;5;241m=\u001b[39m sample_pi(v)\n\u001b[0;32m----> 8\u001b[0m gamma_matrix \u001b[38;5;241m=\u001b[39m sample_gamma(u)\n\u001b[1;32m      9\u001b[0m r_matrix \u001b[38;5;241m=\u001b[39m sample_r(w)\n\u001b[1;32m     11\u001b[0m eta \u001b[38;5;241m=\u001b[39m update_eta(y, r_matrix, gamma_matrix)\n",
      "Cell \u001b[0;32mIn[102], line 10\u001b[0m, in \u001b[0;36msample_gamma\u001b[0;34m(u)\u001b[0m\n\u001b[1;32m      8\u001b[0m \u001b[38;5;66;03m# Here is normalized BY ROWS!!!\u001b[39;00m\n\u001b[1;32m      9\u001b[0m \u001b[38;5;28;01mfor\u001b[39;00m k \u001b[38;5;129;01min\u001b[39;00m \u001b[38;5;28mrange\u001b[39m(K):\n\u001b[0;32m---> 10\u001b[0m     gamma_matrix[k] \u001b[38;5;241m=\u001b[39m np\u001b[38;5;241m.\u001b[39mrandom\u001b[38;5;241m.\u001b[39mdirichlet(u[k])\n\u001b[1;32m     11\u001b[0m \u001b[38;5;28;01mreturn\u001b[39;00m gamma_matrix\n",
      "File \u001b[0;32mnumpy/random/mtrand.pyx:4511\u001b[0m, in \u001b[0;36mnumpy.random.mtrand.RandomState.dirichlet\u001b[0;34m()\u001b[0m\n",
      "\u001b[0;31mValueError\u001b[0m: alpha <= 0"
     ]
    }
   ],
   "source": [
    "pi_post, gamma_post, r_post, z_post = gibbs_sampling(y, z, v, u, w, 1000)"
   ]
  },
  {
   "cell_type": "code",
   "execution_count": 142,
   "metadata": {},
   "outputs": [
    {
     "name": "stdout",
     "output_type": "stream",
     "text": [
      "pi: [0.38302248 0.21703195 0.39994557]\n",
      "pi_post: [0. 1. 0.]\n"
     ]
    }
   ],
   "source": [
    "print(\"pi:\", pi)\n",
    "print(\"pi_post:\", pi_post)"
   ]
  },
  {
   "cell_type": "code",
   "execution_count": 143,
   "metadata": {},
   "outputs": [
    {
     "name": "stdout",
     "output_type": "stream",
     "text": [
      "gamma: [[0.11018196 0.39127889 0.49853915]\n",
      " [0.33376716 0.06772932 0.59850352]\n",
      " [0.33563811 0.50217952 0.16218237]]\n",
      "gamma_post: [[1.00000000e+00 0.00000000e+00 0.00000000e+00]\n",
      " [5.34172237e-01 4.65827763e-01 0.00000000e+00]\n",
      " [8.39793654e-04 7.79579036e-01 2.19581170e-01]]\n"
     ]
    }
   ],
   "source": [
    "print(\"gamma:\", gamma)\n",
    "print(\"gamma_post:\", gamma_post)"
   ]
  },
  {
   "cell_type": "code",
   "execution_count": 144,
   "metadata": {},
   "outputs": [
    {
     "name": "stdout",
     "output_type": "stream",
     "text": [
      "r: [[0.16746911 0.0376759  0.12274635]\n",
      " [0.35620538 0.06033349 0.03365968]\n",
      " [0.00808436 0.50230646 0.47461243]\n",
      " [0.00645759 0.03350373 0.00064324]\n",
      " [0.22157292 0.21493464 0.1598287 ]\n",
      " [0.24021063 0.15124578 0.2085096 ]]\n",
      "r_post: [[8.01154364e-01 0.00000000e+00 0.00000000e+00]\n",
      " [4.64124184e-06 5.05675505e-02 6.25482548e-01]\n",
      " [6.56171142e-02 7.50449976e-01 2.84588408e-01]\n",
      " [0.00000000e+00 2.13820843e-02 0.00000000e+00]\n",
      " [5.80852680e-02 2.69454666e-05 6.79982649e-02]\n",
      " [7.51386126e-02 1.77573443e-01 2.19307794e-02]]\n"
     ]
    }
   ],
   "source": [
    "print(\"r:\", r)\n",
    "print(\"r_post:\", r_post)"
   ]
  },
  {
   "cell_type": "code",
   "execution_count": null,
   "metadata": {},
   "outputs": [],
   "source": []
  }
 ],
 "metadata": {
  "kernelspec": {
   "display_name": "base",
   "language": "python",
   "name": "python3"
  },
  "language_info": {
   "codemirror_mode": {
    "name": "ipython",
    "version": 3
   },
   "file_extension": ".py",
   "mimetype": "text/x-python",
   "name": "python",
   "nbconvert_exporter": "python",
   "pygments_lexer": "ipython3",
   "version": "3.11.5"
  }
 },
 "nbformat": 4,
 "nbformat_minor": 2
}

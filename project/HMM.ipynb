{
 "cells": [
  {
   "cell_type": "code",
   "execution_count": 1,
   "metadata": {},
   "outputs": [],
   "source": [
    "import numpy as np"
   ]
  },
  {
   "cell_type": "code",
   "execution_count": 311,
   "metadata": {},
   "outputs": [],
   "source": [
    "def initialize_parameters(N, K, seed=None):\n",
    "    if seed is not None:\n",
    "        np.random.seed(seed)\n",
    "\n",
    "    # Probability vector of length K\n",
    "    pi = np.random.dirichlet(alpha=np.ones(K))    \n",
    "\n",
    "    assert(np.allclose(sum(pi), 1, atol=1e-6) == 1)\n",
    "\n",
    "    # Transition matrix (K x K), where each column sums to 1, because a column\n",
    "    # represents the jump probabilities from a fixed initial state.\n",
    "    gamma = np.random.dirichlet(alpha=np.ones(K), size=K).T\n",
    "\n",
    "    assert(np.allclose(np.sum(gamma, axis = 0), np.ones(K), atol=1e-6) == 1)\n",
    "\n",
    "    # r matrix (N+1 x K), where each column sums to 1, because a column\n",
    "    # represents the firing probability of a neuron in a fixed state.\n",
    "    r = np.random.dirichlet(alpha=np.ones(N + 1), size=K).T\n",
    "\n",
    "    assert(np.allclose(np.sum(r, axis = 0), np.ones(K), atol=1e-6))\n",
    "\n",
    "    return pi, gamma, r\n",
    "\n",
    "def generate_hmm_data(T, N, K, pi, gamma, r):\n",
    "    z = np.zeros(T, dtype=int)  \n",
    "    y = np.zeros(T, dtype=int)  \n",
    "\n",
    "    # Initialization t=0. I extract the value of K following the init prob\n",
    "    z[0] = np.random.choice(K, p=pi)\n",
    "    y[0] = np.random.choice(N + 1, p=r[:, z[0]])\n",
    "\n",
    "    #data generation\n",
    "    for t in range(1, T):\n",
    "        # I take the column of gamma corresponding to z[t-1] and extract from this distribution\n",
    "        z[t] = np.random.choice(K, p=gamma[:, z[t-1]])\n",
    "        \n",
    "        # I take the column of r corresponding to z[t] and extract from this prob distribution\n",
    "        y[t] = np.random.choice(N + 1, p=r[:, z[t]])\n",
    "\n",
    "    return y, z\n",
    "\n",
    "\n",
    "def forward(y, pi, gamma, r, T, K):\n",
    "    \n",
    "    alpha = np.zeros((T, K))   # alpha has T elements of dimension K each\n",
    "    alpha[0] = pi * r[y[0]]   # r[y[0]] is the first row of r: r_y1,k for each k\n",
    "\n",
    "    for t in range(0, T-1):\n",
    "        for k in range(K):\n",
    "            alpha[t+1, k] = r[y[t], k] * np.sum(alpha[t] * gamma[k])      #gamma[k] is the k'th row of gamma\n",
    "    return alpha + 1e-6\n",
    "\n",
    "def backward(y, gamma, r, T, K):\n",
    "    \n",
    "    beta = np.zeros((T, K))\n",
    "    beta[-1] = 1\n",
    "    \n",
    "    for t in range(T - 1, 0, -1):\n",
    "        for k in range(K):\n",
    "            beta[t-1, k] = r[y[t], k] * np.sum(beta[t] * gamma[k])\n",
    "    return beta + 1e-6\n",
    "\n",
    "def e_step(y, pi, gamma, r, T, K):\n",
    "    \n",
    "    alpha = forward(y, pi, gamma, r, T, K)\n",
    "    beta = backward(y, gamma, r, T, K)\n",
    "    \n",
    "    \"\"\"\n",
    "    print(\"alpha = \", alpha)\n",
    "    print(\"beta = \", beta)\n",
    "    \"\"\"\n",
    "    \n",
    "    # it must have T-1 elements because it's the P(z_t = k and z_t+1 = l | ...)\n",
    "    xi = np.zeros((T-1, K, K))\n",
    "    \n",
    "    for t in range(T-1):\n",
    "        for k in range(K):\n",
    "            for l in range(K):\n",
    "                xi[t, k, l] = alpha[t, k] * gamma[k, l] * r[y[t + 1], l] * beta[t + 1, l]\n",
    "        #renormalization\n",
    "        xi[t] /= np.sum(xi[t])\n",
    "\n",
    "\n",
    "    zeta = np.zeros((T, K))\n",
    "    \n",
    "    for t in range(T):\n",
    "        for k in range(K):\n",
    "            zeta[t,k] = alpha[t, k] * beta[t, k]\n",
    "\n",
    "        zeta[t] /= np.sum(zeta[t])\n",
    "\n",
    "    \"\"\"\n",
    "    print(\"zeta = \", zeta)\n",
    "    print(\"xi = \", xi)\n",
    "    \"\"\"\n",
    "    \n",
    "    return zeta, xi\n",
    "\n",
    "def m_step(y, zeta, xi, N, K):\n",
    "    \n",
    "    T = len(y)\n",
    "    pi = np.zeros(K)\n",
    "    gamma = np.zeros((K,K))\n",
    "    r = np.zeros((N + 1, K))\n",
    "\n",
    "    # update of pi\n",
    "    pi = zeta[0]\n",
    "    \n",
    "    # update of gamma\n",
    "    for k in range(K):\n",
    "        for l in range(K):\n",
    "            gamma[k, l] = np.sum(xi[:, k, l]) # --> Here's a division by 0\n",
    "            \n",
    "    for l in range(K):\n",
    "        gamma[:, l] /= np.sum(gamma[:, l])\n",
    "            \n",
    "    # update of r \n",
    "    for k in range(K):\n",
    "        for i in range(N + 1):\n",
    "            numerator = 0\n",
    "            for t in range(T):\n",
    "                if y[t]==i:\n",
    "                    numerator += zeta[t, k]\n",
    "        \n",
    "            r[i,k] = numerator\n",
    "\n",
    "        r[:, k] /= np.sum(r[:, k]) # --> Here's a division by 0\n",
    "\n",
    "    return pi, gamma, r\n",
    "\n",
    "def em_algorithm(y, T, N, K, pi, gamma, r, max_iter=100, tol=1e-2):\n",
    "    for iteration in range(max_iter):\n",
    "        # print(iteration)\n",
    "        \n",
    "        # E-step\n",
    "        zeta, xi = e_step(y, pi, gamma, r, T, K)        \n",
    "        \n",
    "        # M-step\n",
    "        pi_updated, gamma_updated, r_updated = m_step(y, zeta, xi, N, K)\n",
    "\n",
    "        \"\"\"\n",
    "        print(\"pi_upd = \", pi_updated)\n",
    "        print(\"gamma_upd = \", gamma_updated)\n",
    "        print(\"r_upd = \", r_updated)\n",
    "        \"\"\"\n",
    "        \n",
    "        # i compute the delta using the relative distance, and using the Frobenius norm\n",
    "        delta_pi = np.linalg.norm(pi_updated - pi)\n",
    "        delta_gamma = np.linalg.norm(gamma_updated - gamma, ord='fro')\n",
    "        delta_r = np.linalg.norm(r_updated - r, ord='fro')\n",
    "        \n",
    "\n",
    "        if delta_pi < tol and delta_gamma < tol and delta_r < tol:\n",
    "            print(f\"Converged at iteration {iteration}\")\n",
    "            break\n",
    "\n",
    "        pi = pi_updated\n",
    "        gamma = gamma_updated\n",
    "        r = r_updated\n",
    "\n",
    "    return pi_updated, gamma_updated, r_updated"
   ]
  },
  {
   "cell_type": "code",
   "execution_count": 356,
   "metadata": {},
   "outputs": [
    {
     "name": "stdout",
     "output_type": "stream",
     "text": [
      "Converged at iteration 12\n"
     ]
    }
   ],
   "source": [
    "# Example usage\n",
    "N = 5  # Number of neurons\n",
    "K = 3  # Number of hidden states\n",
    "T = 5  # Number of time steps\n",
    "\n",
    "pi, gamma, r = initialize_parameters(N, K)\n",
    "y, z = generate_hmm_data(T, N, K, pi, gamma, r)\n",
    "pi_post, gamma_post, r_post = em_algorithm(y, T, N, K, pi, gamma, r, max_iter=200)"
   ]
  },
  {
   "cell_type": "code",
   "execution_count": 358,
   "metadata": {},
   "outputs": [
    {
     "name": "stdout",
     "output_type": "stream",
     "text": [
      "pi: [0.28640178 0.33046428 0.38313395]\n",
      "pi_post: [6.51109554e-11 6.58841946e-11 1.00000000e+00]\n"
     ]
    }
   ],
   "source": [
    "print(\"pi:\", pi)\n",
    "print(\"pi_post:\", pi_post)"
   ]
  },
  {
   "cell_type": "code",
   "execution_count": 359,
   "metadata": {},
   "outputs": [
    {
     "name": "stdout",
     "output_type": "stream",
     "text": [
      "gamma: [[0.01365094 0.29716794 0.19552591]\n",
      " [0.19450255 0.53207178 0.65546815]\n",
      " [0.79184651 0.17076028 0.14900594]]\n",
      "gamma_post: [[9.70693358e-42 6.04300643e-45 3.62202551e-45]\n",
      " [7.29552918e-11 1.77360484e-10 3.78496823e-09]\n",
      " [1.00000000e+00 1.00000000e+00 9.99999996e-01]]\n"
     ]
    }
   ],
   "source": [
    "print(\"gamma:\", gamma)\n",
    "print(\"gamma_post:\", gamma_post)"
   ]
  },
  {
   "cell_type": "code",
   "execution_count": 361,
   "metadata": {},
   "outputs": [
    {
     "name": "stdout",
     "output_type": "stream",
     "text": [
      "r: [[0.39534712 0.03100989 0.24410058]\n",
      " [0.04404357 0.05467267 0.02756573]\n",
      " [0.33005924 0.06781042 0.04261027]\n",
      " [0.02804101 0.55605137 0.21396308]\n",
      " [0.07599049 0.27302089 0.09239797]\n",
      " [0.12651857 0.01743475 0.37936236]]\n",
      "r_post: [[9.99999154e-01 9.99794301e-01 3.99953840e-01]\n",
      " [0.00000000e+00 0.00000000e+00 0.00000000e+00]\n",
      " [0.00000000e+00 0.00000000e+00 0.00000000e+00]\n",
      " [6.77181492e-07 1.95986960e-04 4.00030771e-01]\n",
      " [0.00000000e+00 0.00000000e+00 0.00000000e+00]\n",
      " [1.69316571e-07 9.71241076e-06 2.00015389e-01]]\n"
     ]
    }
   ],
   "source": [
    "print(\"r:\", r)\n",
    "print(\"r_post:\", r_post)"
   ]
  },
  {
   "cell_type": "code",
   "execution_count": null,
   "metadata": {},
   "outputs": [],
   "source": []
  }
 ],
 "metadata": {
  "kernelspec": {
   "display_name": "base",
   "language": "python",
   "name": "python3"
  },
  "language_info": {
   "codemirror_mode": {
    "name": "ipython",
    "version": 3
   },
   "file_extension": ".py",
   "mimetype": "text/x-python",
   "name": "python",
   "nbconvert_exporter": "python",
   "pygments_lexer": "ipython3",
   "version": "3.11.5"
  }
 },
 "nbformat": 4,
 "nbformat_minor": 2
}

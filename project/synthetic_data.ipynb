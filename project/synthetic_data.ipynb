{
 "cells": [
  {
   "cell_type": "code",
   "execution_count": 4,
   "metadata": {},
   "outputs": [],
   "source": [
    "import numpy as np\n",
    "import itertools"
   ]
  },
  {
   "cell_type": "code",
   "execution_count": 16,
   "metadata": {},
   "outputs": [],
   "source": [
    "def initialize_parameters(N, K, seed=None):\n",
    "    if seed is not None:\n",
    "        np.random.seed(seed)\n",
    "\n",
    "    # Probability vector of length K\n",
    "    pi = np.random.dirichlet(alpha=np.ones(K))    \n",
    "\n",
    "    assert(np.allclose(sum(pi), 1, atol=1e-6) == 1)\n",
    "\n",
    "    # Transition matrix (K x K), where each column sums to 1, because a column\n",
    "    # represents the jump probabilities from a fixed initial state.\n",
    "    gamma = np.random.dirichlet(alpha=np.ones(K), size=K).T\n",
    "\n",
    "    assert(np.allclose(np.sum(gamma, axis = 0), np.ones(K), atol=1e-6) == 1)\n",
    "\n",
    "    # r matrix (N+1 x K), where each column sums to 1, because a column\n",
    "    # represents the firing probability of a neuron in a fixed state.\n",
    "    r = np.random.dirichlet(alpha=np.ones(N + 1), size=K).T\n",
    "\n",
    "    assert(np.allclose(np.sum(r, axis = 0), np.ones(K), atol=1e-6))\n",
    "\n",
    "    return pi, gamma, r\n",
    "\n",
    "def generate_hmm_data(T, N, K, pi, gamma, r):\n",
    "    z = np.zeros(T, dtype=int)\n",
    "    y = np.zeros(T, dtype=int)\n",
    "\n",
    "    # Initialization t=0. I extract the value of K following the init prob\n",
    "    z[0] = np.random.choice(K, p=pi)\n",
    "    y[0] = np.random.choice(N + 1, p=r[:, z[0]])\n",
    "\n",
    "    #data generation\n",
    "    for t in range(1, T):\n",
    "        # I take the column of gamma corresponding to z[t-1] and extract from this distribution\n",
    "        z[t] = np.random.choice(K, p=gamma[:, z[t-1]])\n",
    "        \n",
    "        # I take the column of r corresponding to z[t] and extract from this prob distribution\n",
    "        y[t] = np.random.choice(N + 1, p=r[:, z[t]])\n",
    "\n",
    "    return y, z\n",
    "\n",
    "def likelihood_comp(T, K, pi, gamma, r, y):\n",
    "\n",
    "    likelihood = 0\n",
    "    # all possible sequences z\n",
    "    all_sequences = itertools.product(range(K), repeat=T)\n",
    "\n",
    "    for z in all_sequences: \n",
    "\n",
    "        p_1 = 0\n",
    "        p_2 = pi[z[0]]\n",
    "\n",
    "        for t in range(T-1):\n",
    "            p_1 *= r[y[t], z[t]]\n",
    "            p_2 *= gamma[z[t], z[t+1]]\n",
    "\n",
    "        p_1 *= r[y[T-1], z[T-1]]\n",
    "\n",
    "        likelihood += (p_1*p_2)\n",
    "\n",
    "    return likelihood"
   ]
  },
  {
   "cell_type": "code",
   "execution_count": 17,
   "metadata": {},
   "outputs": [
    {
     "name": "stdout",
     "output_type": "stream",
     "text": [
      "pi =  [0.12069069 0.55244944 0.32685987]\n",
      "gamma =  [[0.45646788 0.06325535 0.64711981]\n",
      " [0.44912046 0.31643628 0.1373299 ]\n",
      " [0.09441166 0.62030837 0.21555029]]\n",
      "r =  [[0.31227274 0.16121984 0.23302989]\n",
      " [0.33858345 0.00319615 0.49051518]\n",
      " [0.12553553 0.3416608  0.04023219]\n",
      " [0.22360828 0.49392322 0.23622274]]\n",
      "y: [1 3 1 2 0 3 3 3 0 2 3 1 1 1 0 3 3 3 1 2 0 3 0 3 0 3 1 0 1 1 0 3 1 1 3 1 3\n",
      " 2 3 1 0 1 3 0 3 1 0 3 3 3 0 3 0 3 1 0 0 1 3 1 1 0 1 1 0 3 3 3 3 3 3 1 3 1\n",
      " 3 2 3 3 1 1 0 2 2 0 2 1 0 3 3 3 3 1 1 2 3 1 1 3 0 3]\n",
      "z: [2 0 0 1 2 1 1 2 0 0 1 0 0 0 1 2 2 2 0 1 2 0 0 1 2 0 0 0 0 2 1 2 0 0 1 2 0\n",
      " 0 1 2 2 0 0 0 1 2 0 1 2 1 1 1 1 1 2 0 2 0 0 2 0 1 2 2 0 1 2 1 1 2 2 0 1 2\n",
      " 0 0 0 1 2 2 0 0 1 2 0 0 1 2 2 0 1 0 0 0 1 2 0 1 1 2]\n"
     ]
    }
   ],
   "source": [
    "N = 3  # neurons\n",
    "K = 3  # states\n",
    "T = 100  # time steps\n",
    "seed = 1234  \n",
    "\n",
    "#input: initialization of the parameters for the HMM\n",
    "pi, gamma, r = initialize_parameters(N, K, seed)\n",
    "\n",
    "print(\"pi = \", pi)\n",
    "print(\"gamma = \", gamma)\n",
    "print(\"r = \", r)\n",
    "\n",
    "# print(r[y[0]])\n",
    "\n",
    "#output: generation of the observed and hidden data\n",
    "y, z = generate_hmm_data(T, N, K, pi, gamma, r)\n",
    "\n",
    "print(\"y:\", y)\n",
    "print(\"z:\", z)\n",
    "\n",
    "# likelihood = likelihood_comp(T, K, pi, gamma, r, y)\n",
    "# print(likelihood)"
   ]
  },
  {
   "cell_type": "code",
   "execution_count": 429,
   "metadata": {},
   "outputs": [
    {
     "name": "stdout",
     "output_type": "stream",
     "text": [
      "1.0391692\n",
      "0.74464802\n"
     ]
    }
   ],
   "source": [
    "a =[0.0619599,  0.84200031, 0.13520899]\n",
    "b = [0.20247272, 0.31928411, 0.22289119]\n",
    "print(sum(a))\n",
    "print(sum(b))"
   ]
  }
 ],
 "metadata": {
  "kernelspec": {
   "display_name": "base",
   "language": "python",
   "name": "python3"
  },
  "language_info": {
   "codemirror_mode": {
    "name": "ipython",
    "version": 3
   },
   "file_extension": ".py",
   "mimetype": "text/x-python",
   "name": "python",
   "nbconvert_exporter": "python",
   "pygments_lexer": "ipython3",
   "version": "3.11.5"
  }
 },
 "nbformat": 4,
 "nbformat_minor": 2
}
